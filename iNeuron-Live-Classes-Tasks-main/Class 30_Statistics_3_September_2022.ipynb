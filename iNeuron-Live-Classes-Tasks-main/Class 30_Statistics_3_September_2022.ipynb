{
  "nbformat": 4,
  "nbformat_minor": 0,
  "metadata": {
    "colab": {
      "provenance": [],
      "collapsed_sections": []
    },
    "kernelspec": {
      "name": "python3",
      "display_name": "Python 3"
    },
    "language_info": {
      "name": "python"
    }
  },
  "cells": [
    {
      "cell_type": "markdown",
      "source": [
        "## **CLASS 30: STATISTICS: 3 SEPTEMBER 2022**"
      ],
      "metadata": {
        "id": "jgKx7SlQuHTZ"
      }
    },
    {
      "cell_type": "markdown",
      "source": [
        "![0_V0GyOt3LoDVfY7y5.png](https://st3.depositphotos.com/1092019/12686/i/950/depositphotos_126866260-stock-photo-statistics-in-multicolor-doodle-design.jpg)"
      ],
      "metadata": {
        "id": "ybyiDvP43CuY"
      }
    },
    {
      "cell_type": "markdown",
      "source": [
        "STATISTICS taught will be helpful for jobs in Data Analyst, Business Analyst, Data Scientist, Product Managers\n",
        "\n",
        "We will discuss these below usecases after studying Statistics\n",
        "\n",
        "**USECASE 1:** (This was asked in Product Based Company)\n",
        "\n",
        "Lets Suppose we are working in HDFC Bank\n",
        "\n",
        "Already have ATM in Location A and B. Location A and B is 30km distant. Whether to open ATM in C location or not? \n",
        "\n",
        "This task is on Data Analyst and Data Scientist.\n",
        "\n",
        "**USECASE 2:** (Asked in Amazon for Data Analyst Position) \n",
        "Find the average size of the shark throughout the world?\n",
        "\n",
        "**USECASE 3:** (Asked in Intuit Product Based Company)\n",
        "Which day of the month should be a Big Billion Day?\n"
      ],
      "metadata": {
        "id": "f_JEdOlxuaWI"
      }
    },
    {
      "cell_type": "markdown",
      "source": [
        "\n",
        "![0_V0GyOt3LoDVfY7y5.png](https://dezyre.gumlet.io/images/blog/Life+Cycle+of+a+Data+Science+Project/Lifecycle+of+a+Data+Science+Project.jpg?w=376&dpr=2.6)\n"
      ],
      "metadata": {
        "id": "Bh-dhrNFBggc"
      }
    },
    {
      "cell_type": "markdown",
      "source": [
        "# **LIFE CYCLE OF DATA SCIENCE PROJECT:**\n",
        "\n",
        "**Requirement Gathering-->**Business Analyst, Product Manager, Project Manager will be involved\n",
        "\n",
        "**Data Analytics-->**Requirements will be provided to data team-->Data Analyst, Data Scientist, Big Data Enggs, Cloud Enggs. To solve the problem, where should we get the data? Data Analyst, Data Scientist, Business Analyst, Product Managers will be involved in this process. They will have domain/business knowledge understanding. This data could be internal data, 3rd party API's, Live Streaming etc. Once we get all the data, data will be sent to Big Data Engg Team. They will save the data in databases (MySQL, NoSQL)\n",
        "\n",
        "\n",
        "**DATA SCIENCE PROJECT STEPS:**\n",
        "\n",
        "-->EDA (Exploratory Data Analysis includes Cleaning of Data)\n",
        "\n",
        "-->Feature Engg. (Eg. Handling Missing Values)\n",
        "\n",
        "-->Feature Selection \n",
        "\n",
        "-->Model Training\n",
        "\n",
        "-->Hyperparameter Tuning (To improve the performance of the model)\n",
        "\n",
        "-->Deploy the Model\n",
        "\n",
        "In the above steps, Statistics is an integral part. Hence we need to learn.\n",
        "\n"
      ],
      "metadata": {
        "id": "D1fDQjx9wQ5E"
      }
    },
    {
      "cell_type": "markdown",
      "source": [
        "**What is Statistics:** Statistics is the science of collecting, organizing and analyzing the data.\n",
        "\n",
        "**What is Data:** Data is Fact or Pieces of  Eg. Ages of Student in Classroom, Weights of Students in Classroom\n",
        "\n",
        "**TYPES OF STATISTICS:**\n",
        "\n",
        "---\n",
        "\n",
        "\n",
        "\n",
        "**DESCRIPTIVE STATISTICS:** Organizing and Summarizing the Data using different kind of plots: Mean-Median-Mode,Standard Deviation, Variance etc.: Measure of Central Tendancy (Eg. Plotting Using Pie-Charts, Histogram, Bar Chart, Distribution (We draw using Histogram, Candlestick, Box Plots, Whisker Plot, Skewed Plots, Scatter Plots, Violin Plots). This will be used extensively in EDA and Feature Engineering.\n",
        "\n",
        "**INFERENTIAL STATISTICS:** Collecting Sample Data and making conclusions (Using Hypothesis Testing) about Population Data using some experiments. \n",
        "Lets say there is a university with 500 students. Class A has 60 people. By using Age data of these 60 people (sample), can we make conclusions of Average age of entire university of 500 students ? (YES) We will be using Technique of Hyothesis Testing, Confidence Interval, P Value, Experiments like Z Test, T Test, Chi Square Test, Anova or F Test.\n",
        "\n",
        "**What is Sample Data vs Population Data:**\n",
        "\n",
        "Punjab Population 10 Crore\n",
        "\n",
        "Exit Polls conducted: Asking people whom did you vote and make conclusions. They dont ask each and every people as it is not practically possible. So they need to take sample of data. \n",
        "\n",
        "\n",
        "Lets say there are 20 Classrooms in a University and you have collected Ages of students in 1 Classroom:\n",
        "\n",
        "Ages: {21,20,18,34,17,22,24,25}\n",
        "Weight: {...........}\n",
        "\n",
        "\n",
        "**Descriptive Stats Qns:**\n",
        "\n",
        "What is the Average Age for that particular Class?\n",
        "\n",
        "Relationship between Age and Weight?\n",
        "\n",
        "\n",
        "**Inferential Stats Qns:**\n",
        "\n",
        "Are the average of the students in the classroom less than the average age of the students in the university?\n",
        "\n",
        "1000 Students->Class A 50 girls (95% Avg Marks) and Class B 50 boys (92% Avg Marks). Have girls performed better than boys in entire University ?\n",
        "\n",
        "\n",
        "## **DIFFERENT SAMPLING TECHNIQUES:**\n",
        "\n",
        "1. Simple Random Sampling: Every member of the population (N) has an equal chance of being selected for your sample (n) Eg. Exit Polls, General Survey, Lottery\n",
        "2. Stratified Sampling: Strata means Layers/Clusters/Groups: Eg. We can make groups basis Gender, Education Degree etc. Eg. RBI Survey\n",
        "3. Systematic Sampling: (In Airport, Credit Card Section wants to sell credit card: Every 5th person, I will see, I will approach to sell Credit Card) Basically selecting every nth individual out of Population (N)\n",
        "4. Convenience Sampling: Only those who are interested in the survey will only Participate. Eg. Survey Regarding New Technology\n",
        "\n",
        "We can apply Stratified Sampling first and then on that sample, we can do Random Sampling (Selling Credit Cards)"
      ],
      "metadata": {
        "id": "aggVJ2xf0b3p"
      }
    },
    {
      "cell_type": "markdown",
      "source": [
        "Variable is a Property that can take any values Eg. Age = 14\n",
        "\n",
        "Variables will have multiple values (Collections): Ages = [24,25,26,27]\n",
        "\n",
        "Two Different Type of Variables:\n",
        "1. Quantitative Variable: Measured Numerically. We can do mathematical operations: Eg. Age, Weight, Height, Rainfall in cm\n",
        "This can be further divided into Discrete and Continuous Variables:\n",
        "\n",
        "a. Discrete (Cannot be Decimal): Number of Bank Account Person has\n",
        "\n",
        "b. Continuous (Decimal allowed): \n",
        "\n",
        "2. Qualitative Variable: Categorical Variables: Eg. Based on Some Characteristics, they are grouped together.\n",
        "\n",
        "**What kind of Variable is :**\n",
        "\n",
        "Marital Status? Categorical Variable\n",
        "\n",
        "Ganga River Length? Continuous \n",
        "\n",
        "Movie Duration? Continuous\n",
        "\n",
        "Pincode? Discrete\n",
        "\n",
        "IQ? Continuous\n",
        "\n",
        "Gender? Categorical\n",
        "                         "
      ],
      "metadata": {
        "id": "cDlBA2dhHTyr"
      }
    },
    {
      "cell_type": "markdown",
      "source": [
        "# **KRISH SIR ADVICE ON PROFILE BUILDING:**\n",
        "\n",
        "Concentrate on Linkedin, Github, Instagram to get Freelancing Job Opportunities\n",
        "\n",
        "Resume and Mock Interviews also very important\n",
        "\n",
        "1. Sharing Amazing Information related to Data Science in Linkedin \n",
        "2. Class Notes: Tag iNeuron and Krish Sir (Instagram krishnaik06)\n"
      ],
      "metadata": {
        "id": "IwN1ubx_MZa2"
      }
    },
    {
      "cell_type": "code",
      "source": [],
      "metadata": {
        "id": "9jMQcvbUT0mr"
      },
      "execution_count": null,
      "outputs": []
    }
  ]
}