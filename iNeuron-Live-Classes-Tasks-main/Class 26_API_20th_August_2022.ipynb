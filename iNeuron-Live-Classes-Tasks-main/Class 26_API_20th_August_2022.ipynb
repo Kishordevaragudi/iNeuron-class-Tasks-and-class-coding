{
  "nbformat": 4,
  "nbformat_minor": 0,
  "metadata": {
    "colab": {
      "name": "Class 26_API_20th August 2022.ipynb",
      "provenance": []
    },
    "kernelspec": {
      "name": "python3",
      "display_name": "Python 3"
    },
    "language_info": {
      "name": "python"
    }
  },
  "cells": [
    {
      "cell_type": "markdown",
      "source": [
        "# **CLASS 26: APPLICATION PROGRAMMING INTERFACE (API): 20 AUGUST 2022**"
      ],
      "metadata": {
        "id": "uPLuzV6n3tlV"
      }
    },
    {
      "cell_type": "markdown",
      "source": [
        "**API:** Communication between Separate/Heterogenous Systems or Same/Homogeneous Systems\n",
        "\n",
        "Example: GPAY communication with HDFC Bank for Transactions. Suppose GPAY system designed using MERN Techstack (MongoDB, Express, React, Node) and HDFC Backend is designed using Java, then communication/interaction will be done easily using API.\n",
        "\n",
        "FLASK is more than suffcient for Data Science use-cases but if we want to learn web development, then Django is important.\n",
        "\n",
        "For API testing, we need to download and install POSTMAN\n",
        "\n",
        "**The URL we used to run in POSTMAN is API:** \n",
        "\n",
        "http://127.0.0.1:5000/abc (Accessing Python Function in Postman using POST)\n",
        "\n",
        "http://127.0.0.1:5000/abc1\n",
        "\n",
        "http://127.0.0.1:5000/abc2\n",
        "\n",
        "http://127.0.0.1:5000/abc3"
      ],
      "metadata": {
        "id": "TdgR_2bK3thx"
      }
    },
    {
      "cell_type": "code",
      "execution_count": null,
      "metadata": {
        "id": "4pb_Uer8oCa1"
      },
      "outputs": [],
      "source": [
        "from flask import Flask, request, jsonify\n",
        "\n",
        "app = Flask(__name__) #Creating object of Flask class\n",
        "\n",
        "#API Platform Independent: we use HTTP or HTTPS Protocol to reach out to respective systems\n",
        "#If I have to send some data, use GET(through URL/Browser) and POST(through body), @ is annotation (Behaving as decorator) meaning line after that call that function\n",
        "#If the function test1 is recieving data, then it will be through GET or POST method\n",
        "@app.route('/abc',methods=['GET','POST'])\n",
        "def test1():\n",
        "    if(request.method=='POST'):  #If from some other system person is sending data through POST\n",
        "        a = request.json['num1'] #We can use csv/xml and other formats\n",
        "        b = request.json['num2']\n",
        "        result = a+b\n",
        "        return jsonify((str(result)))\n",
        "\n",
        "@app.route('/abc1',methods=['GET','POST'])\n",
        "def test2():\n",
        "    if(request.method=='POST'):  #If from some other system person is sending data through POST\n",
        "        a = request.json['num1'] #We can use csv/xml and other formats\n",
        "        b = request.json['num2']\n",
        "        result = a*b\n",
        "        return jsonify((str(result)))\n",
        "\n",
        "@app.route('/abc2',methods=['GET','POST'])\n",
        "def test3():\n",
        "    if(request.method=='POST'):  #If from some other system person is sending data through POST\n",
        "        a = request.json['num1'] #We can use csv/xml and other formats\n",
        "        b = request.json['num2']\n",
        "        result = a**b\n",
        "        return jsonify((str(result)))\n",
        "\n",
        "@app.route('/abc3',methods=['GET','POST'])\n",
        "def test4():\n",
        "    if(request.method=='POST'):  #If from some other system person is sending data through POST\n",
        "        a = request.json['num1'] #We can use csv/xml and other formats\n",
        "        b = request.json['num2']\n",
        "        result = a-b\n",
        "        return jsonify((str(result)))\n",
        "\n",
        "if __name__ =='__main__': #Invoking Python Main Class\n",
        "    app.run()  #Exposing entire function: app.run() will invoke Line 3\n",
        "\n",
        "\n"
      ]
    },
    {
      "cell_type": "code",
      "source": [
        "#Task\n",
        "1. Write a program to insert a record in sql table via api database\n",
        "2. Write a program to update a record via api\n",
        "3. Write a program to delete a record via api\n",
        "4. Write a program to fetch a record via api\n",
        "5. Do all the above questions you have to answer for mongo"
      ],
      "metadata": {
        "id": "wKHJg2v566zK"
      },
      "execution_count": null,
      "outputs": []
    }
  ]
}
