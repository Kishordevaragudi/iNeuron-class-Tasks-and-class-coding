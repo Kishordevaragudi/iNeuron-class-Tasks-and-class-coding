{
  "nbformat": 4,
  "nbformat_minor": 0,
  "metadata": {
    "colab": {
      "name": "Class 29_Python Project_Image Scrapper_28 August 2022.ipynb",
      "provenance": [],
      "collapsed_sections": []
    },
    "kernelspec": {
      "name": "python3",
      "display_name": "Python 3"
    },
    "language_info": {
      "name": "python"
    }
  },
  "cells": [
    {
      "cell_type": "markdown",
      "source": [
        "## **CLASS 29: IMAGE SCRAPPER PYTHON PROJECT: 28 AUGUST 2022**"
      ],
      "metadata": {
        "id": "6kVxTN5q7Gey"
      }
    },
    {
      "cell_type": "code",
      "source": [
        "#Download project Image Scrapper: https://drive.google.com/file/d/1eYdZHwR9QZBAxS7XWsjbJdRTLgM24QvK/view?usp=sharing\n",
        "#Run command: pip install -r requirements.txt\n",
        "#Use Python 3.6 as interpreter\n",
        "#Web Driver helps us to reach out to Google Chrome. Hence we need to install chromium Driver using link: https://chromedriver.chromium.org/downloads\n",
        "#Sleep_between_interactions: Time differences between one search and another search so that our system does not hang\n",
        "#We can hold Images in byte format or bs mode for Database Storage"
      ],
      "metadata": {
        "id": "iaxwZMB17GDU"
      },
      "execution_count": null,
      "outputs": []
    },
    {
      "cell_type": "markdown",
      "source": [
        "# **Project Challenge Given:**\n",
        "\n",
        "Winner: 30-50k (One Plus Phone)\n",
        "Deadline: 12th September (19th Sept announcement on winners)\n",
        "\n",
        "\n",
        "Challenge PDF - https://drive.google.com/file/d/1UcmG5-QLQKz57iyY6g6v9vLrmVZ4LIWf/view?usp=sharing\n",
        
        "1) Browse Channel Videos of Krish, Hitesh, Tulesko and MySirji Youtube Channel\n",
        "\n",
        "2) For Latest 50 videos uploaded try to extract the below things:\n",
        "\n",
        "a) Video Link\n",
        "\n",
        "b) Comments with Commentor Name\n",
        "\n",
        "c) Download Video\n",
        "\n",
        "d) Likes for respective video\n",
        "\n",
        "e) Number of comments\n",
        "\n",
        "f) Title of Video\n",
        "\n",
        "g) Thumbnail of Video\n",
        "\n",
        "Only Comments and Thumbnail (Base 64 format) should be stored in MongoDB, others in MySQL Format\n",
        "\n",
        "8 columns will be created including Youtube Channel Name\n",
        "\n",
        "Then front end screen: Give video link and you will get information of the table (If possible Beautify it)\n",
        "\n",
        "Deploy the app into Heroku, AWS and Azure. Sir will be expecting a link"
      ],
      "metadata": {
        "id": "mgG9ZMF2PtUw"
      }
    },
    {
      "cell_type": "code",
      "source": [],
      "metadata": {
        "id": "LYg0CW3vQzHH"
      },
      "execution_count": null,
      "outputs": []
    }
  ]
}
