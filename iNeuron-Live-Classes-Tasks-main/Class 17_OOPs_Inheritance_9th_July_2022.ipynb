{
  "nbformat": 4,
  "nbformat_minor": 0,
  "metadata": {
    "colab": {
      "name": "Class 17_OOPs_Inheritance_9th July 2022.ipynb",
      "provenance": [],
      "collapsed_sections": []
    },
    "kernelspec": {
      "name": "python3",
      "display_name": "Python 3"
    },
    "language_info": {
      "name": "python"
    }
  },
  "cells": [
    {
      "cell_type": "markdown",
      "source": [
        "**OOPS: Inheritance + Data Abstraction + Encapsulation + Polymorphism**"
      ],
      "metadata": {
        "id": "R_9b9GxQzCZf"
      }
    },
    {
      "cell_type": "markdown",
      "source": [
        "\n",
        "\n",
        "**Types of Inheritance:**\n",
        "\n",
        "Single Inheritance\n",
        "\n",
        "Multiple Inheritance\n",
        "\n",
        "Multi-level Inheritance"
      ],
      "metadata": {
        "id": "jSo-wVMNYSeQ"
      }
    },
    {
      "cell_type": "code",
      "execution_count": null,
      "metadata": {
        "id": "ce5N6-trYCGt"
      },
      "outputs": [],
      "source": [
        "#Single Inheritance Example\n",
        "class car:  #Parent class\n",
        "  \n",
        "  def __init__(self,body,engine,tyre):\n",
        "    self.body = body\n",
        "    self.engine = engine\n",
        "    self.tyre = tyre\n",
        "\n",
        "  def mileage(self):\n",
        "    print(\"Mileage of this car\")\n",
        "\n",
        "c = car(\"solid\",\"v6\",\"radial\")\n",
        "print(c)\n",
        "\n",
        "\n",
        "#Suppose we are creating another class which also require body, engine, tyre. So we can inherit Class Car instead of re-initializing\n",
        "\n",
        "class tata(car): #Child Class\n",
        "  pass\n",
        "\n",
        "\n",
        "t = tata()\n",
        "print(t) #Gives error as we didnt give arguments: body, engine, tyre. Since we have inherited car class, we have to provide the arguments\n",
        "\n",
        "p = tata(\"solid\",\"v8\",\"radial\")\n",
        "print(p)\n",
        "print(p.mileage()) #Will give output: \"Mileage of this car\"\n",
        "\n",
        "\n",
        "\n"
      ]
    },
    {
      "cell_type": "code",
      "source": [
        "#Multilevel Inheritance Example\n",
        "class bank:\n",
        "\n",
        "  def transaction(self):\n",
        "    print(\"Total transaction value\")\n",
        "\n",
        "  def account_opening(self):\n",
        "    print(\"This will show you account open status\")\n",
        "  \n",
        "  def deposit(self):\n",
        "    print(\"This will show your deposited amount\")\n",
        "\n",
        "class HDFC_bank(bank):\n",
        "  \n",
        "  def hdfc_to_icici(self):  \n",
        "    print(\"This will show you all the transactions happened to ICICI bank through hdfc\")\n",
        "\n",
        "class ICICI_bank(HDFC_bank): #Multilevel Inheritance: By default we can access Class Bank functions as well as HDFC_ bank functions inside the class ICICI_bank\n",
        "  pass\n",
        "\n",
        "i = ICICI_bank()\n",
        "#All the below functions are accessible\n",
        "i.hdfc_to_icici()\n",
        "i.transaction()\n",
        "i.account_opening()\n",
        "i.deposit()"
      ],
      "metadata": {
        "colab": {
          "base_uri": "https://localhost:8080/"
        },
        "id": "DsaUebbUaiwb",
        "outputId": "e9e7dca7-357c-4818-ba2e-6582cdd62f07"
      },
      "execution_count": 3,
      "outputs": [
        {
          "output_type": "stream",
          "name": "stdout",
          "text": [
            "This will show you all the transactions happened to ICICI bank through hdfc\n",
            "Total transaction value\n",
            "This will show you account open status\n",
            "This will show your deposited amount\n"
          ]
        }
      ]
    },
    {
      "cell_type": "code",
      "source": [
        "#Multiple Inheritance Example (We can inherit beyond 2 classes as well)\n",
        "class bank:\n",
        "\n",
        "  def transaction(self):\n",
        "    print(\"Total transaction value\")\n",
        "\n",
        "  def account_opening(self):\n",
        "    print(\"This will show you account open status\")\n",
        "  \n",
        "  def deposit(self):\n",
        "    print(\"This will show your deposited amount\")\n",
        "\n",
        "class HDFC_bank(bank):\n",
        "  \n",
        "  def hdfc_to_icici(self):  \n",
        "    print(\"This will show you all the transactions happened to ICICI bank through hdfc\")\n",
        "\n",
        "class ICICI_bank(bank, HDFC_bank): #Multiple Inheritance: We can access Class Bank functions as well as HDFC_ bank functions inside the class ICICI_bank\n",
        "  pass\n",
        "\n",
        "i = ICICI_bank()\n",
        "#All the below functions are accessible\n",
        "i.hdfc_to_icici()\n",
        "i.transaction()\n",
        "i.account_opening()\n",
        "i.deposit()"
      ],
      "metadata": {
        "id": "FrcGnP_jeNCT"
      },
      "execution_count": null,
      "outputs": []
    },
    {
      "cell_type": "code",
      "source": [
        "#What if function name is same in different classes that is being inherited in a child class?\n",
        "class bank:\n",
        "\n",
        "  def transaction(self):\n",
        "    print(\"Total transaction value\")\n",
        "\n",
        "  def account_opening(self):\n",
        "    print(\"This will show you account open status\")\n",
        "  \n",
        "  def deposit(self):\n",
        "    print(\"This will show your deposited amount\")\n",
        "\n",
        "  def test(self):\n",
        "    print(\"This is a test method from bank class\")\n",
        "\n",
        "class HDFC_bank(bank):\n",
        "  \n",
        "  def hdfc_to_icici(self):  \n",
        "    print(\"This will show you all the transactions happened to ICICI bank through hdfc\")\n",
        "  \n",
        "  def test(self):\n",
        "    print(\"This is a test method from hdfc bank class\")\n",
        "\n",
        "class ICICI_bank(bank, HDFC_bank): #Multiple Inheritance: We can access Class Bank functions as well as HDFC_ bank functions inside the class ICICI_bank\n",
        "  pass\n",
        "\n",
        "i = ICICI_bank()\n",
        "i.test()  #bank class function test is invoked\n",
        "\n",
        "#If method name is same and we are performing multiple inheritance, then by default it is going to call the function which will be available first in the child classes call\n",
        "\n",
        "#hence suppose we create like this:\n",
        "class ICICI_bank(HDFC_bank,bank): #We have changed the order of Class\n",
        "  pass\n",
        "\n",
        "i = ICICI_bank()\n",
        "i.test()  #HDFC_bank class function test is invoked"
      ],
      "metadata": {
        "id": "Ak0GMQm5fewI"
      },
      "execution_count": null,
      "outputs": []
    },
    {
      "cell_type": "code",
      "source": [
        "#More than two classes inherited: Multiple Inheritance Example\n",
        "class bank :\n",
        "    def transaction(self) :\n",
        "        print(\"total transaction value \")\n",
        "    def account_opening(self):\n",
        "        print(\"this will show you your account open status \")\n",
        "    def deposite(self):\n",
        "        print(\"this will show your deposited amount\")\n",
        "    def test(self):\n",
        "        print(\"this is a test methond form bank class \")\n",
        "\n",
        "\n",
        "class HDFC_bank:\n",
        "    def hdfc_to_icici(self):\n",
        "        print(\"this will show you all the transaction happend to icici throuhg hdfc\")\n",
        "    def test(self):\n",
        "        print(\"this is a test method form hdfc bank \")\n",
        "\n",
        "class ineron_bank:\n",
        "    def account_status_icici(self):\n",
        "        print(\"print a account status in icici \")\n",
        "\n",
        "class icici(HDFC_bank , bank , ineron_bank):\n",
        "    pass\n",
        "\n",
        "i = icici()\n",
        "i.hdfc_to_icici()\n",
        "i.transaction()\n",
        "i.deposite()\n",
        "i.account_opening()\n",
        "i.test()\n",
        "i.account_status_icici()"
      ],
      "metadata": {
        "id": "hx3VbdVFiYM1"
      },
      "execution_count": null,
      "outputs": []
    },
    {
      "cell_type": "code",
      "source": [
        "#Function/Method Overriding: If the name of the method is same in parent as well as child class, then function overiding happens in child class\n",
        "class ineuron:\n",
        "  def student(self):\n",
        "    print(\"Print the details of all the students\")\n",
        "\n",
        "  def achievers(self):\n",
        "    print(\"Print the list of all the achievers\")\n",
        "  \n",
        "  def hall_of_fame(self):\n",
        "    print(\"Print everyone from hall of fame\")\n",
        "\n",
        "class ineuron_vision(ineuron):\n",
        "  def student(self): #Method name Same\n",
        "    print(\"These are the filtered student list\")\n",
        "\n",
        "iv = ineuron_vision()\n",
        "iv.student() #Function Overiding. This will call method student of ineuron_vision class\n"
      ],
      "metadata": {
        "id": "AppS8mlDh9KH"
      },
      "execution_count": null,
      "outputs": []
    },
    {
      "cell_type": "code",
      "source": [
        "#Data Abstraction: In simple words, Hiding Data to the users. We dont give direct access to users. This is achieved using different access specifiers: public, private and protected\n",
        "class ineuron():\n",
        "  __students = 'Data Science' #Private Variable (In other words, We are hiding this variable behind my class). This phenomenon is called as Data Abstraction\n",
        "  \n",
        "  def students(self):\n",
        "    print(\"Print the class of students\",ineuron.__students)  #Correct way of calling private class variable\n",
        "\n",
        "i = ineuron()\n",
        "i.students() #Printing correctly\n",
        "i.__students #This will show error\n",
        "print(i._ineuron.__students) #Now we can access\n"
      ],
      "metadata": {
        "id": "jQoQVNJSkqwV"
      },
      "execution_count": null,
      "outputs": []
    },
    {
      "cell_type": "code",
      "source": [
        "#Concept of Encapsulation: Not supposed to modify the value directly by user. Illustrated using below cases\n",
        "class ineuron:\n",
        "  def __init__(self):\n",
        "    self.students = \"data science\"\n",
        "\n",
        "  def students(self):\n",
        "    print(self.students)\n",
        "\n",
        "i = ineuron()\n",
        "i.students() #Gives error: str object not callable: Because member name and member function name is same. We can replace students to students1 and then it will be resolved\n",
        "\n"
      ],
      "metadata": {
        "id": "YDdIYrzdtjOL"
      },
      "execution_count": null,
      "outputs": []
    },
    {
      "cell_type": "code",
      "source": [
        "#Above problem resolved\n",
        "class ineuron:\n",
        "  def __init__(self):\n",
        "    self.students1 = \"data science\"\n",
        "\n",
        "  def students(self):\n",
        "    print(self.students1)\n",
        "\n",
        "i = ineuron()\n",
        "i.students() #Correctly displays output"
      ],
      "metadata": {
        "id": "nXqt6Cb2uNI9"
      },
      "execution_count": null,
      "outputs": []
    },
    {
      "cell_type": "code",
      "source": [
        "class ineuron:\n",
        "  def __init__(self):\n",
        "    self.students1 = \"data science\"\n",
        "\n",
        "  def students(self):\n",
        "    print(self.students1)\n",
        "\n",
        "i = ineuron()\n",
        "i.students() \n",
        "i.students1 = \"data analytics\"\n",
        "i.students()  #Printing data analytics as we have overrriden value of variable students1 in run time. This was possible because it is a public variable"
      ],
      "metadata": {
        "id": "5zzrqPiwuWmw"
      },
      "execution_count": null,
      "outputs": []
    },
    {
      "cell_type": "code",
      "source": [
        "#Lets see what happens when variable is private. Can we override it in runtime? Ans: No\n",
        "class ineuron:\n",
        "  def __init__(self):\n",
        "    self.__students1 = \"data science\"\n",
        "\n",
        "  def students(self):\n",
        "    print(self.__students1)\n",
        "\n",
        "i1 = ineuron()\n",
        "i1.students() \n",
        "i1.__students1 = \"big data\"\n",
        "i1.students()  #No error but overriding didnt happen. Still data science is being printed"
      ],
      "metadata": {
        "id": "A2rMEo2SvAbP"
      },
      "execution_count": null,
      "outputs": []
    },
    {
      "cell_type": "code",
      "source": [
        "#Lets see what happens when variable is private. Can we change the variable value inside the class method? Ans: Yes\n",
        "class ineuron:\n",
        "  def __init__(self):\n",
        "    self.__students1 = \"data science\"\n",
        "\n",
        "  def students(self):\n",
        "    print(self.__students1)\n",
        "\n",
        "  def student_change(self):\n",
        "    self.__students1 = \"Big data by me\"\n",
        "\n",
        "i1 = ineuron()\n",
        "i1.students() \n",
        "i1.students()  #big data by me is printed\n",
        "\n",
        "#If I have a private variable, in that case by the help of object I will not be able to reassign any values to the variable. \n",
        "#But we can change using a method inside the class"
      ],
      "metadata": {
        "id": "t5elHa2gwDXy"
      },
      "execution_count": null,
      "outputs": []
    },
    {
      "cell_type": "code",
      "source": [
        "#Lets see what happens when variable is private. Can we change the variable value inside the class method in runtime? Ans: Yes\n",
        "class ineuron:\n",
        "  def __init__(self):\n",
        "    self.__students1 = \"data science\"\n",
        "\n",
        "  def students(self):\n",
        "    print(self.__students1)\n",
        "\n",
        "  def student_change(self,new_value): #Setter function: We set the value using the function\n",
        "    self.__students1 = new_value\n",
        "\n",
        "i1 = ineuron()\n",
        "i1.student_change('Gaurav') \n",
        "i1.students()  #Gaurav will be printed"
      ],
      "metadata": {
        "id": "k-PzIkpww7kK"
      },
      "execution_count": null,
      "outputs": []
    },
    {
      "cell_type": "code",
      "source": [
        "#Concept of Polymorphism: Polymorphism means the same function name (but different signatures) being used for different types.\n",
        "class ineuron:\n",
        "  def student(self):\n",
        "    print(\"Print student details\")\n",
        "\n",
        "class class_type:\n",
        "  def class_for_students(self):\n",
        "    print(\"Print the class type of students\")\n",
        "\n",
        "def test(a,b):\n",
        "  return a + b\n",
        "\n",
        "print(test(3,4))  #7 output :Addition Operation\n",
        "print(test(\"Gaurav\",\"Ratan\")) #GauravRatan output  : Same function but performing concatenation operation"
      ],
      "metadata": {
        "id": "w7p85IMVy7iG"
      },
      "execution_count": null,
      "outputs": []
    },
    {
      "cell_type": "code",
      "source": [
        "#Polymorphism Continued\n",
        "\n",
        "class ineuron:\n",
        "  def students(self):\n",
        "    print(\"Print student details\")\n",
        "\n",
        "class class_type:\n",
        "  def students(self):\n",
        "    print(\"Print the class type of students\")\n",
        "\n",
        "def ineuron_external(a): #Creating Function to achieve Polymorphism. Able to handle both ineuron class function and class_type function class. Behaving like a connection/bridge to all the classes\n",
        "  a.students()\n",
        "\n",
        "i = ineuron()\n",
        "j = class_type()\n",
        "ineuron_external(i) #Students function of 'ineuron' class will be called\n",
        "ineuron_external(j) #Students function of 'class_type' class will be called\n"
      ],
      "metadata": {
        "id": "xmUcNiNF1E23"
      },
      "execution_count": null,
      "outputs": []
    }
  ]
}
