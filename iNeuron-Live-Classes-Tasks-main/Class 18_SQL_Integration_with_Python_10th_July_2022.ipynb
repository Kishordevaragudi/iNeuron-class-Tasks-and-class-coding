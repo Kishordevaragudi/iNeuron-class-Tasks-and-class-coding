{
  "nbformat": 4,
  "nbformat_minor": 0,
  "metadata": {
    "colab": {
      "name": "Class 18_SQL Integration with Python_10th July 2022.ipynb",
      "provenance": [],
      "collapsed_sections": []
    },
    "kernelspec": {
      "name": "python3",
      "display_name": "Python 3"
    },
    "language_info": {
      "name": "python"
    }
  },
  "cells": [
    {
      "cell_type": "markdown",
      "source": [
        "**SQL Integration**\n",
        "\n",
        "Why Databases:\n",
        "\n",
        "Data will not be available in our local system but it will be available in databases for a real time project. In this class we will store data in databases (MySQL Database)\n",
        "\n",
        "Without databases we will not be able to build any application\n",
        "\n",
        "CAP Theorem: The CAP theorem states that a distributed database system has to make a tradeoff between Consistency and Availability when a Partition occurs. On the basis of this theorem, we use different databases.\n",
        "\n",
        "We can easily connect different databases (postgresql, mssql, mysql, oracle, db2 etc.) with Python."
      ],
      "metadata": {
        "id": "zYDihVqae-sM"
      }
    },
    {
      "cell_type": "markdown",
      "source": [
        "**MySQL Workbench**: \n",
        "\n",
        "MySQL Workbench is a visual database design tool that integrates SQL development, administration, database design, creation and maintenance into a single integrated development environment for the MySQL database system."
      ],
      "metadata": {
        "id": "GYLj6kDjjYcV"
      }
    },
    {
      "cell_type": "code",
      "execution_count": null,
      "metadata": {
        "id": "f6lCacRwNXHf"
      },
      "outputs": [],
      "source": [
        "#For Installing mysql\n",
        "pip install mysql-connector-python\n"
      ]
    },
    {
      "cell_type": "code",
      "source": [
        "#Establishing Connection and Executing a query\n",
        "\n",
        "import mysql.connector as connection\n",
        "\n",
        "try:\n",
        "    mydb = connection.connect(host = \"Localhost\", user = \"root\", passwd = \"Useyourpwd@\", use_pure = True)\n",
        "    #Check if the connection is established\n",
        "\n",
        "\n",
        "\n",
        "    cursor = mydb.cursor(buffered = True) #Create a cusrsor to execute queries\n",
        "    cursor.execute(\"Create database gauravfinal1234\")\n",
        "    cursor.execute(\"SHOW DATABASES\")\n",
        "    cursor.execute(\"Create table gauravfinal1234.ineuron(emp_id int, emp_name varchar(80), emp_mailid varchar(20), emp_salary int, emp_attendance int)\")\n",
        "    cursor.execute(\"select * from gauravfinal1234.ineuron\")\n",
        "    #print(cursor.fetchall()) #As we are not returning anything\n",
        "\n",
        "except Exception as e:\n",
        "    mydb.close()\n",
        "    print(str(e))"
      ],
      "metadata": {
        "id": "oibTylucq1eD"
      },
      "execution_count": null,
      "outputs": []
    },
    {
      "cell_type": "code",
      "source": [
        "#Inserting data into the table ineuron and displaying\n",
        "import mysql.connector as connection\n",
        "\n",
        "mydb = connection.connect(host = \"Localhost\", user = \"root\", passwd = \"Useyourpwd@94\", use_pure = True)\n",
        "cursor = mydb.cursor()\n",
        "s = \"insert into gauravfinal1234.ineuron values(101,'Gaurav Ratan','gaurav@gmail.com',1000,30)\"  #5 Columns so we need to give 5 values for that\n",
        "cursor.execute(s)\n",
        "mydb.commit()  #Committing ensures that data is saved in our database\n",
        "cursor.execute(\"select * from gauravfinal1234.ineuron\")\n",
        "for i in cursor.fetchall():\n",
        "    print(i)"
      ],
      "metadata": {
        "id": "K7Qn578K0fST"
      },
      "execution_count": null,
      "outputs": []
    },
    {
      "cell_type": "code",
      "source": [
        "#Selecting certain columns\n",
        "import mysql.connector as connection\n",
        "\n",
        "mydb = connection.connect(host = \"Localhost\", user = \"root\", passwd = \"Useyourpwd@94\", use_pure = True)\n",
        "cursor = mydb.cursor()\n",
        "cursor.execute(\"select emp_id,emp_mailid from gauravfinal1234.ineuron\")\n",
        "for i in cursor.fetchall():\n",
        "  print(i)  #Returned as tuple"
      ],
      "metadata": {
        "id": "oSxtZxT622Ps"
      },
      "execution_count": null,
      "outputs": []
    },
    {
      "cell_type": "code",
      "source": [
        "#Selecting certain columns and storing it in list\n",
        "import mysql.connector as connection\n",
        "\n",
        "mydb = connection.connect(host = \"Localhost\", user = \"root\", passwd = \"Useyourpwd@94\", use_pure = True)\n",
        "cursor = mydb.cursor()\n",
        "cursor.execute(\"select emp_id,emp_mailid from gauravfinal1234.ineuron\")\n",
        "l = []\n",
        "for i in cursor.fetchall():\n",
        "  l.append(i)  #Returned as tuple\n",
        "\n",
        "print(l)\n",
        "print(type(l[0]))  #Shows tuple"
      ],
      "metadata": {
        "id": "BUZaFJVr3jQ0"
      },
      "execution_count": null,
      "outputs": []
    }
  ]
}
